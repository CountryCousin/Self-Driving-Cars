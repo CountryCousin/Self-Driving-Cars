{
 "cells": [
  {
   "cell_type": "code",
   "execution_count": 4,
   "metadata": {},
   "outputs": [
    {
     "ename": "ModuleNotFoundError",
     "evalue": "No module named 'util'",
     "output_type": "error",
     "traceback": [
      "\u001b[0;31m---------------------------------------------------------------------------\u001b[0m",
      "\u001b[0;31mModuleNotFoundError\u001b[0m                       Traceback (most recent call last)",
      "Cell \u001b[0;32mIn[4], line 8\u001b[0m\n\u001b[1;32m      6\u001b[0m \u001b[39mfrom\u001b[39;00m \u001b[39mvehicle\u001b[39;00m \u001b[39mimport\u001b[39;00m RDW, Vehicle\n\u001b[1;32m      7\u001b[0m \u001b[39m# import utils\u001b[39;00m\n\u001b[0;32m----> 8\u001b[0m \u001b[39mimport\u001b[39;00m \u001b[39mutil\u001b[39;00m\n\u001b[1;32m      9\u001b[0m \u001b[39mimport\u001b[39;00m \u001b[39mnumpy\u001b[39;00m \u001b[39mas\u001b[39;00m \u001b[39mnp\u001b[39;00m\n\u001b[1;32m     12\u001b[0m \u001b[39m# @utils.profile\u001b[39;00m\n",
      "\u001b[0;31mModuleNotFoundError\u001b[0m: No module named 'util'"
     ]
    }
   ],
   "source": [
    "\"\"\"camera_pid controller.\"\"\"\n",
    "\n",
    "# from controller import Display\n",
    "from controller import Controller\n",
    "# from vehicle import Car\n",
    "from vehicle import RDW, Vehicle\n",
    "# import utils\n",
    "import util\n",
    "import numpy as np\n",
    "\n",
    "\n",
    "# @utils.profile\n",
    "def main():\n",
    "    # Create the Robot instance.\n",
    "    robot = Car()\n",
    "\n",
    "    # Get the time step of the current world.\n",
    "    timestep = int(robot.getBasicTimeStep())\n",
    "\n",
    "    # Create camera instance\n",
    "    camera = robot.getDevice(\"camera\")\n",
    "    camera.enable(timestep)  # timestep\n",
    "\n",
    "    # Threshold display\n",
    "    # display_th = Display(\"display_th\")\n",
    "\n",
    "    # yellow_pixel = np.array([95, 187, 203])  # road yellow (BGR format)\n",
    "    yellow_pixel = np.array([25, 127, 127])  # HSV\n",
    "    error = np.array([8, 80, 80])  # value error over 80 (detects bush)\n",
    "\n",
    "    while robot.step() != -1:\n",
    "        # Get image from camera\n",
    "        image = utils.get_image(camera)\n",
    "\n",
    "        # Process image (obtain binary image)\n",
    "        binary_image = utils.colour_threshold_cv2(image, yellow_pixel, error)\n",
    "\n",
    "        # Column normalized [-0.5, 0.5]\n",
    "        normalized_column, average_column = utils.calculate_normalized_average_col(\n",
    "            binary_image\n",
    "        )\n",
    "        angle = normalized_column * 1.0  # TODO: needs tunning\n",
    "\n",
    "        print(f\"INFO: normalized column {normalized_column:.2f}\")\n",
    "        print(f\"INFO: angle {angle:.2f}\")\n",
    "\n",
    "        # utils.display_binary_image(display_th, binary_image, average_column)\n",
    "\n",
    "        robot.setSteeringAngle(angle)\n",
    "        robot.setCruisingSpeed(50)\n",
    "\n",
    "\n",
    "if __name__ == \"__main__\":\n",
    "    main()\n"
   ]
  }
 ],
 "metadata": {
  "kernelspec": {
   "display_name": "base",
   "language": "python",
   "name": "python3"
  },
  "language_info": {
   "codemirror_mode": {
    "name": "ipython",
    "version": 3
   },
   "file_extension": ".py",
   "mimetype": "text/x-python",
   "name": "python",
   "nbconvert_exporter": "python",
   "pygments_lexer": "ipython3",
   "version": "3.9.7 (default, Sep 16 2021, 13:09:58) \n[GCC 7.5.0]"
  },
  "orig_nbformat": 4,
  "vscode": {
   "interpreter": {
    "hash": "7c4a55e405f7bcb88ad6c91ab65bae92b02a6d8366992e5e50862d1a2faeda28"
   }
  }
 },
 "nbformat": 4,
 "nbformat_minor": 2
}
