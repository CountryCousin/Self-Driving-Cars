{
 "cells": [
  {
   "cell_type": "code",
   "execution_count": null,
   "metadata": {},
   "outputs": [],
   "source": [
    "import utils\n",
    "import cv2\n",
    "from pathlib import Path\n",
    "import numpy as np\n",
    "import matplotlib.pyplot as plt\n",
    "%matplotlib inline\n",
    "\n",
    "current_folder = Path(\"\")\n",
    "images_folder = current_folder / \"dataset\" / \"images\"\n",
    "models_folder = current_folder / \"models\"\n",
    "latest_image_path = utils.get_latest_file_path(images_folder)\n",
    "\n",
    "model = utils.get_model(models_folder, -1)  # -1 -- latest\n",
    "\n",
    "for layer in model.layers:\n",
    "    layer.trainable = False\n",
    "\n",
    "image = cv2.imread(str(latest_image_path))\n",
    "image = utils.preprocess_images(image)\n",
    "# Reshape image to have 4 dimensions\n",
    "image_rs = image.reshape(1, image.shape[0], image.shape[1], image.shape[2])"
   ]
  },
  {
   "cell_type": "code",
   "execution_count": null,
   "metadata": {},
   "outputs": [],
   "source": [
    "#left, straight, right = model.predict(image_rs)[0] # without compile should be faster (load_weights)\n",
    "#left, straight, right = np.array(model(image_rs, training=False))[0]\n",
    "\n",
    "angle = np.array(model(image_rs, training=False))[0]\n",
    "print(angle)"
   ]
  },
  {
   "cell_type": "code",
   "execution_count": null,
   "metadata": {},
   "outputs": [],
   "source": [
    "def explain_image(image_id):\n",
    "    image_path = images_folder / f\"image_{image_id}.png\"\n",
    "\n",
    "    image = cv2.imread(str(image_path))\n",
    "    image = utils.preprocess_images(image)\n",
    "\n",
    "    from lime import lime_image\n",
    "\n",
    "    explainer = lime_image.LimeImageExplainer()\n",
    "\n",
    "    # Note: if top_labels grater than 1, the positive area increases\n",
    "    explanation = explainer.explain_instance(image.astype(\"double\"), model,\n",
    "                                             top_labels=1, hide_color=0, num_samples=1000)\n",
    "\n",
    "    image_rs = image.reshape(1, image.shape[0], image.shape[1], image.shape[2])\n",
    "    output = np.array(model(image_rs, training=False))[0]\n",
    "    if len(output) == 1:\n",
    "        print(f\"Angle {float(angle):.2f}\")\n",
    "    else:\n",
    "        print(output)\n",
    "\n",
    "    from skimage.segmentation import mark_boundaries\n",
    "\n",
    "    temp_1, mask_1 = explanation.get_image_and_mask(explanation.top_labels[0], positive_only=True, num_features=5, hide_rest=True)\n",
    "    temp_2, mask_2 = explanation.get_image_and_mask(explanation.top_labels[0], positive_only=False, num_features=10, hide_rest=False)\n",
    "\n",
    "    fig, (ax1, ax2) = plt.subplots(1, 2, figsize=(15,15))\n",
    "    ax1.imshow(mark_boundaries(temp_1, mask_1))\n",
    "    ax2.imshow(mark_boundaries(temp_2, mask_2))\n",
    "    ax1.axis(\"off\")\n",
    "    ax2.axis(\"off\")\n",
    "    plt.show()\n",
    "    # Left image: pixels used for classification (super-pixels)\n",
    "    # Right image: green icrease the probability of beign of the true class, the ones colored in red decrease the proability"
   ]
  },
  {
   "cell_type": "code",
   "execution_count": null,
   "metadata": {},
   "outputs": [],
   "source": [
    "image_id = 1500\n",
    "\n",
    "explain_image(image_id)"
   ]
  },
  {
   "cell_type": "code",
   "execution_count": null,
   "metadata": {},
   "outputs": [],
   "source": [
    "explain_image(2500)"
   ]
  },
  {
   "cell_type": "code",
   "execution_count": null,
   "metadata": {},
   "outputs": [],
   "source": [
    "explain_image(3000)"
   ]
  },
  {
   "cell_type": "code",
   "execution_count": null,
   "metadata": {},
   "outputs": [],
   "source": [
    "explain_image(4000)"
   ]
  },
  {
   "cell_type": "code",
   "execution_count": null,
   "metadata": {},
   "outputs": [],
   "source": [
    "explain_image(5000)"
   ]
  },
  {
   "cell_type": "code",
   "execution_count": null,
   "metadata": {},
   "outputs": [],
   "source": [
    "explain_image(6000)"
   ]
  }
 ],
 "metadata": {
  "language_info": {
   "name": "python"
  },
  "orig_nbformat": 4
 },
 "nbformat": 4,
 "nbformat_minor": 2
}
