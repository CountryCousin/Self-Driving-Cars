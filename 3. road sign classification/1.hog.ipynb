{
 "cells": [
  {
   "cell_type": "code",
   "execution_count": 1,
   "metadata": {},
   "outputs": [
    {
     "ename": "FileNotFoundError",
     "evalue": "[Errno 2] No such file or directory: '/home/page/Desktop/Machine Learning/1/Self Driving Cars/3. road sign classification/original_dataset/annotations'",
     "output_type": "error",
     "traceback": [
      "\u001b[0;31m---------------------------------------------------------------------------\u001b[0m",
      "\u001b[0;31mFileNotFoundError\u001b[0m                         Traceback (most recent call last)",
      "Cell \u001b[0;32mIn[1], line 7\u001b[0m\n\u001b[1;32m      4\u001b[0m \u001b[39mimport\u001b[39;00m \u001b[39mmatplotlib\u001b[39;00m\u001b[39m.\u001b[39;00m\u001b[39mpyplot\u001b[39;00m \u001b[39mas\u001b[39;00m \u001b[39mplt\u001b[39;00m\n\u001b[1;32m      5\u001b[0m \u001b[39mimport\u001b[39;00m \u001b[39mpreprocessing\u001b[39;00m\n\u001b[0;32m----> 7\u001b[0m _, _, _, _ \u001b[39m=\u001b[39m preprocessing\u001b[39m.\u001b[39;49mget_dataset() \u001b[39m# just to create the modified_dataset folder\u001b[39;00m\n\u001b[1;32m      9\u001b[0m image_path \u001b[39m=\u001b[39m Path(\u001b[39m\"\u001b[39m\u001b[39mmodified_dataset/cropped_images/image_100.png\u001b[39m\u001b[39m\"\u001b[39m)\n\u001b[1;32m     10\u001b[0m image \u001b[39m=\u001b[39m cv2\u001b[39m.\u001b[39mimread(\u001b[39mstr\u001b[39m(image_path))\n",
      "File \u001b[0;32m~/Desktop/Machine Learning/1/Self Driving Cars/3. road sign classification/preprocessing.py:167\u001b[0m, in \u001b[0;36mget_dataset\u001b[0;34m(recompute)\u001b[0m\n\u001b[1;32m    165\u001b[0m         X, y \u001b[39m=\u001b[39m pickle\u001b[39m.\u001b[39mload(file)\n\u001b[1;32m    166\u001b[0m \u001b[39melse\u001b[39;00m:\n\u001b[0;32m--> 167\u001b[0m     X, y \u001b[39m=\u001b[39m read_dataset()\n\u001b[1;32m    168\u001b[0m     \u001b[39m# Save dataset\u001b[39;00m\n\u001b[1;32m    169\u001b[0m     \u001b[39mwith\u001b[39;00m \u001b[39mopen\u001b[39m(dataset_file, \u001b[39m\"\u001b[39m\u001b[39mwb\u001b[39m\u001b[39m\"\u001b[39m) \u001b[39mas\u001b[39;00m file:\n\u001b[1;32m    170\u001b[0m         \u001b[39m# A new file will be created\u001b[39;00m\n",
      "File \u001b[0;32m~/Desktop/Machine Learning/1/Self Driving Cars/3. road sign classification/preprocessing.py:94\u001b[0m, in \u001b[0;36mread_dataset\u001b[0;34m(overwrite, standar_size, store_images)\u001b[0m\n\u001b[1;32m     92\u001b[0m \u001b[39mdef\u001b[39;00m \u001b[39mread_dataset\u001b[39m(overwrite\u001b[39m=\u001b[39m\u001b[39mFalse\u001b[39;00m, standar_size\u001b[39m=\u001b[39m\u001b[39mTrue\u001b[39;00m, store_images\u001b[39m=\u001b[39m\u001b[39mTrue\u001b[39;00m):\n\u001b[1;32m     93\u001b[0m     \u001b[39m# Annotation files list\u001b[39;00m\n\u001b[0;32m---> 94\u001b[0m     annotation_files \u001b[39m=\u001b[39m [f \u001b[39mfor\u001b[39;00m f \u001b[39min\u001b[39;00m ANNOTATIONS_FOLDER\u001b[39m.\u001b[39miterdir() \u001b[39mif\u001b[39;00m f\u001b[39m.\u001b[39mis_file()]\n\u001b[1;32m     96\u001b[0m     cropped_images_folder \u001b[39m=\u001b[39m MODIFIED_DATASET_FOLDER \u001b[39m/\u001b[39m \u001b[39m\"\u001b[39m\u001b[39mcropped_images\u001b[39m\u001b[39m\"\u001b[39m\n\u001b[1;32m     97\u001b[0m     \u001b[39mif\u001b[39;00m overwrite \u001b[39mand\u001b[39;00m cropped_images_folder\u001b[39m.\u001b[39mexists():\n",
      "File \u001b[0;32m~/Desktop/Machine Learning/1/Self Driving Cars/3. road sign classification/preprocessing.py:94\u001b[0m, in \u001b[0;36m<listcomp>\u001b[0;34m(.0)\u001b[0m\n\u001b[1;32m     92\u001b[0m \u001b[39mdef\u001b[39;00m \u001b[39mread_dataset\u001b[39m(overwrite\u001b[39m=\u001b[39m\u001b[39mFalse\u001b[39;00m, standar_size\u001b[39m=\u001b[39m\u001b[39mTrue\u001b[39;00m, store_images\u001b[39m=\u001b[39m\u001b[39mTrue\u001b[39;00m):\n\u001b[1;32m     93\u001b[0m     \u001b[39m# Annotation files list\u001b[39;00m\n\u001b[0;32m---> 94\u001b[0m     annotation_files \u001b[39m=\u001b[39m [f \u001b[39mfor\u001b[39;00m f \u001b[39min\u001b[39;00m ANNOTATIONS_FOLDER\u001b[39m.\u001b[39miterdir() \u001b[39mif\u001b[39;00m f\u001b[39m.\u001b[39mis_file()]\n\u001b[1;32m     96\u001b[0m     cropped_images_folder \u001b[39m=\u001b[39m MODIFIED_DATASET_FOLDER \u001b[39m/\u001b[39m \u001b[39m\"\u001b[39m\u001b[39mcropped_images\u001b[39m\u001b[39m\"\u001b[39m\n\u001b[1;32m     97\u001b[0m     \u001b[39mif\u001b[39;00m overwrite \u001b[39mand\u001b[39;00m cropped_images_folder\u001b[39m.\u001b[39mexists():\n",
      "File \u001b[0;32m~/anaconda3/envs/sds_python/lib/python3.10/pathlib.py:1017\u001b[0m, in \u001b[0;36mPath.iterdir\u001b[0;34m(self)\u001b[0m\n\u001b[1;32m   1013\u001b[0m \u001b[39mdef\u001b[39;00m \u001b[39miterdir\u001b[39m(\u001b[39mself\u001b[39m):\n\u001b[1;32m   1014\u001b[0m     \u001b[39m\"\"\"Iterate over the files in this directory.  Does not yield any\u001b[39;00m\n\u001b[1;32m   1015\u001b[0m \u001b[39m    result for the special paths '.' and '..'.\u001b[39;00m\n\u001b[1;32m   1016\u001b[0m \u001b[39m    \"\"\"\u001b[39;00m\n\u001b[0;32m-> 1017\u001b[0m     \u001b[39mfor\u001b[39;00m name \u001b[39min\u001b[39;00m \u001b[39mself\u001b[39;49m\u001b[39m.\u001b[39;49m_accessor\u001b[39m.\u001b[39;49mlistdir(\u001b[39mself\u001b[39;49m):\n\u001b[1;32m   1018\u001b[0m         \u001b[39mif\u001b[39;00m name \u001b[39min\u001b[39;00m {\u001b[39m'\u001b[39m\u001b[39m.\u001b[39m\u001b[39m'\u001b[39m, \u001b[39m'\u001b[39m\u001b[39m..\u001b[39m\u001b[39m'\u001b[39m}:\n\u001b[1;32m   1019\u001b[0m             \u001b[39m# Yielding a path object for these makes little sense\u001b[39;00m\n\u001b[1;32m   1020\u001b[0m             \u001b[39mcontinue\u001b[39;00m\n",
      "\u001b[0;31mFileNotFoundError\u001b[0m: [Errno 2] No such file or directory: '/home/page/Desktop/Machine Learning/1/Self Driving Cars/3. road sign classification/original_dataset/annotations'"
     ]
    }
   ],
   "source": [
    "from pathlib import Path\n",
    "import cv2\n",
    "import numpy as np\n",
    "import matplotlib.pyplot as plt\n",
    "import preprocessing\n",
    "\n",
    "_, _, _, _ = preprocessing.get_dataset() # just to create the modified_dataset folder\n",
    "\n",
    "image_path = Path(\"modified_dataset/cropped_images/image_100.png\")\n",
    "image = cv2.imread(str(image_path))\n",
    "\n",
    "# RGB image (for display)\n",
    "image_rgb = cv2.cvtColor(image, cv2.COLOR_BGR2RGB)\n",
    "\n",
    "# BGR to grayscale\n",
    "image_gray = cv2.cvtColor(image, cv2.COLOR_BGR2GRAY)  # 8 bit encoding\n",
    "\n",
    "# Image in float encoding and scaled to have values [128-255]\n",
    "image_gray_f64 = image_gray.astype(np.float64)\n",
    "image_gray_f64 = image_gray_f64 / 2 + 128\n",
    "\n",
    "# Calculate gradient value and magnitude\n",
    "# images scaled [0-127] negative gradients [128-255] positive gradients\n",
    "image_dx_disp = cv2.Sobel(image_gray_f64, 0, dx=1, dy=0)  # uint8\n",
    "image_dy_disp = cv2.Sobel(image_gray_f64, 0, dx=0, dy=1)\n",
    "# Negative gradients\n",
    "image_dx = (image_dx_disp.astype(np.float64) - 128) * 2  # np.float64\n",
    "image_dy = (image_dy_disp.astype(np.float64) - 128) * 2\n",
    "magnitude = np.sqrt(image_dx ** 2 + image_dy ** 2)\n",
    "direction = np.arctan2(image_dy.astype(np.float64), image_dx.astype(np.float64))\n",
    "\n",
    "# Plot images\n",
    "fig = plt.figure(figsize=(10, 15))\n",
    "rows, columns = 3, 2\n",
    "\n",
    "fig.add_subplot(rows, columns, 1)\n",
    "plt.title(\"Original RGB\")\n",
    "plt.axis(\"off\")\n",
    "plt.imshow(image_rgb)\n",
    "\n",
    "fig.add_subplot(rows, columns, 2)\n",
    "plt.title(\"Image Grayscale\")\n",
    "plt.axis(\"off\")\n",
    "plt.imshow(image_gray, cmap=\"gray\")\n",
    "\n",
    "fig.add_subplot(rows, columns, 3)\n",
    "plt.title(\"Sobel X\")\n",
    "plt.axis(\"off\")\n",
    "plt.imshow(image_dx_disp, cmap=\"gray\")\n",
    "\n",
    "fig.add_subplot(rows, columns, 4)\n",
    "plt.title(\"Sobel Y\")\n",
    "plt.axis(\"off\")\n",
    "plt.imshow(image_dy, cmap=\"gray\")\n",
    "\n",
    "fig.add_subplot(rows, columns, 5)\n",
    "plt.title(\"Gradient Magnitude\")\n",
    "plt.axis(\"off\")\n",
    "plt.imshow(magnitude)\n",
    "\n",
    "fig.add_subplot(rows, columns, 6)\n",
    "plt.title(\"Gradient Orientation\")\n",
    "plt.axis(\"off\")\n",
    "plt.imshow(direction)\n"
   ]
  }
 ],
 "metadata": {
  "kernelspec": {
   "display_name": "Python 3",
   "language": "python",
   "name": "python3"
  },
  "language_info": {
   "codemirror_mode": {
    "name": "ipython",
    "version": 3
   },
   "file_extension": ".py",
   "mimetype": "text/x-python",
   "name": "python",
   "nbconvert_exporter": "python",
   "pygments_lexer": "ipython3",
   "version": "3.10.8"
  },
  "orig_nbformat": 4,
  "vscode": {
   "interpreter": {
    "hash": "706770e4ae10118d1f12cfa1b2d6781cbe938e5ca810f902c05e1c7ad3ec6c4c"
   }
  }
 },
 "nbformat": 4,
 "nbformat_minor": 2
}
